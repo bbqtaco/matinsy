{
 "cells": [
  {
   "cell_type": "code",
   "execution_count": 106,
   "metadata": {
    "collapsed": false
   },
   "outputs": [
    {
     "name": "stdout",
     "output_type": "stream",
     "text": [
      "********************************************\n",
      "boron  db integrety checking beginning  2017-09-08 14:47\n"
     ]
    }
   ],
   "source": [
    "#import tkinter as tk\n",
    "import sqlite3\n",
    "import numpy as np\n",
    "import pandas as pd\n",
    "import os as os\n",
    "from os import system, path, remove\n",
    "import glob\n",
    "import time\n",
    "import shutil\n",
    "\n",
    "import platform\n",
    "host = platform.node()\n",
    "\n",
    "#file modes for chmod commands\n",
    "mod = 0o755\n",
    "\n",
    "btime = time.strftime(\"%Y-%m-%d %H:%M\")\n",
    "#print(btime)\n",
    "\n",
    "\n",
    "#hostflag = 0\n",
    "if host == 'boron':\n",
    "    home = '/home/huffman/work/matinsy/'\n",
    "    dbfile = home+'db/cheminventory.db'\n",
    "    webhtmldir = './'\n",
    "    webmsdsdir = webhtmldir+'msds/'\n",
    "    websafetyplansdir = webhtmldir+'Lab_Specific_Hygiene_Plans/'\n",
    "    htmldir = '/home/huffman/public_html/sdsweb/'\n",
    "    safetyplansdir = htmldir+'Lab_Specific_Hygiene_Plans/'\n",
    "    safetyplansnoplan = './noplans.html'\n",
    "    msdsdir = htmldir+'msds/'\n",
    "    roomfile = home+'etc/allrooms.dat'\n",
    "    \n",
    "elif host == 'msds.wcu.edu':\n",
    "    home = '/wwbintz/'\n",
    "    dbfile = home+'/matinsy/db/cheminventory.db'\n",
    "    htmldir = home+'public_html/'\n",
    "    webhtmldir = './'\n",
    "    safetyplansdir = htmldir+'Lab_Specific_Hygiene_Plans/'\n",
    "    safetyplansnoplan = './noplans.html'\n",
    "    msdsdir = htmldir+'msds/'\n",
    "    webmsdsdir = webhtmldir+'msds/'\n",
    "    websafetyplansdir = webhtmldir+'Lab_Specific_Hygiene_Plans/'\n",
    "    roomfile = home+'matinsy/etc/allrooms.dat'\n",
    "else:\n",
    "    pass\n",
    "\n",
    "\n",
    "\n",
    "tp = '<HTML>\\n <HEAD><TITLE>SDS chemical inventory DB Problems </TITLE></HEAD>\\n<BODY>\\n'\n",
    "hd = '<H1>'  \n",
    "he = '</H1>\\n'\n",
    "lt = '<UL>'\n",
    "le = '</UL>'\n",
    "li = '<LI>'\n",
    "dn = '</BODY>\\n </HTML>\\n'\n",
    "\n",
    "print('********************************************')\n",
    "\n",
    "bmsg = ' db integrety checking beginning '\n",
    "print(host,bmsg,btime)\n"
   ]
  },
  {
   "cell_type": "code",
   "execution_count": 11,
   "metadata": {
    "collapsed": true
   },
   "outputs": [],
   "source": [
    "def highlight_vals(val):\n",
    "    if val != 'none':\n",
    "        return 'color: red' \n",
    "    else:\n",
    "        return ''"
   ]
  },
  {
   "cell_type": "markdown",
   "metadata": {},
   "source": [
    "## CAS problems\n"
   ]
  },
  {
   "cell_type": "code",
   "execution_count": 2,
   "metadata": {
    "collapsed": true
   },
   "outputs": [],
   "source": [
    "def getallbots(dbfile):\n",
    "    conn = sqlite3.connect(dbfile)\n",
    "    c = conn.cursor()\n",
    "    rooms = []\n",
    "    catid = []\n",
    "    CAS = []\n",
    "    d = {}\n",
    "    c.execute('select catid,room,CAS,reorder,name from Bot')\n",
    "    tmp1 = c.fetchall()\n",
    "    for i in range(len(tmp1)):\n",
    "        catid.append(tmp1[i][0])\n",
    "        rooms.append(tmp1[i][1])\n",
    "        CAS.append(tmp1[i][2])\n",
    "        tmp2 = []\n",
    "        for j in range(1,len(tmp1[i])):\n",
    "            tmp2.append(tmp1[i][j])\n",
    "        d[tmp1[i][0]] = tmp2\n",
    "        conn.commit()\n",
    "    c.close()\n",
    "    return d"
   ]
  },
  {
   "cell_type": "code",
   "execution_count": 63,
   "metadata": {
    "collapsed": false
   },
   "outputs": [],
   "source": [
    "d = getallbots(dbfile)\n",
    "df = pd.DataFrame.from_dict(d, orient='index')\n",
    "df.rename(columns={0:'room',1:'CAS',2:'reorder',3:'name'},inplace=True)\n",
    "df.head()\n",
    "df_noCAS = df[df['CAS'].isnull()]\n",
    "df_noROOM = df[df['room'].isnull()]\n",
    "df_noNAME = df[df['name'].isnull()]\n",
    "df_noREORDER = df[df['reorder'].isnull()]\n",
    "#TODO: add these to dictionary for output\n",
    "outdict = {'noCAS':df_noCAS,'noROOM':df_noROOM,'noREORDER':df_noREORDER,'noName':df_noNAME}"
   ]
  },
  {
   "cell_type": "markdown",
   "metadata": {},
   "source": [
    "## Rooms that aren't correct"
   ]
  },
  {
   "cell_type": "code",
   "execution_count": 114,
   "metadata": {
    "collapsed": false
   },
   "outputs": [],
   "source": [
    "##this realrooms should be readable from a config file\n",
    "realrooms = 'NS102 NS102A NS103 NS105 NS106  NS108 NS110 NS114 NS118 NS119A NS119B NS119C NS122 NS127 NS129 NS202 NS204 NS205 NS207 NS208 NS209 NS214 NS216 NS216A NS217 NS218 NS220 NS221 NS226 NS227 NS302 NS304 NS307 NS308A NS309 NS311 NS312 NS314 NS315 NS317 NS322 NS323 NS324 NSG NSG02 NSG03 NSG04 NSG05 NSG10 NSG14 NSG17 ST114 ST115 ST116 ST118 ST119 ST120 ST121 ST122 ST124 ST125 ST126 ST127 ST130 ST131 ST132 ST134 ST136 ST153 ST155 ST157 ST157A ST157B ST159 ST201 ST209 ST210 ST212 ST214 ST215 ST218 ST219 ST220 ST220A ST220B ST303 ST304 ST305 ST306 ST309 ST312 ST314 ST315 ST323 ST355 ST401 ST403 ST404 ST405 ST409 ST412 ST413 ST415 ST419 ST420'\n",
    "realrooms.split(' ')\n",
    "\n",
    "###read room file\n",
    "def readdbparms(file):\n",
    "    parm = []\n",
    "    f = open(file,'r')\n",
    "    tmp = f.readlines()\n",
    "    f.close()\n",
    "    for line in tmp:\n",
    "        parm.append( line.rstrip('\\n\\r\\t'))\n",
    "\n",
    "    #parm = filter(None, parm) # drop empty elements in a list\n",
    "    parm = [x for x in parm if x != '']\n",
    "    return parm\n",
    "\n",
    "realrooms = readdbparms(roomfile)\n",
    "\n",
    "badroomcatid = []\n",
    "roomslist =  list(df['room'].unique())\n",
    "tmp = [ x for x in roomslist if 'retire' not in x ]\n",
    "tmp = [ x for x in tmp if 'combine' not in x ]\n",
    "tmp = [ x for x in tmp if 'neu' not in x ]\n",
    "roomlist = tmp\n",
    "for room in  roomlist:\n",
    "    if room not in realrooms:\n",
    "        for catid in df['room'][df['room'] == room].index:\n",
    "            badroomcatid.append(catid)\n",
    "        \n",
    "outdict['bad rooms'] = df.ix[badroomcatid]"
   ]
  },
  {
   "cell_type": "code",
   "execution_count": null,
   "metadata": {
    "collapsed": false
   },
   "outputs": [],
   "source": []
  },
  {
   "cell_type": "markdown",
   "metadata": {
    "collapsed": true
   },
   "source": [
    "## output html report file"
   ]
  },
  {
   "cell_type": "code",
   "execution_count": null,
   "metadata": {
    "collapsed": false
   },
   "outputs": [],
   "source": []
  },
  {
   "cell_type": "code",
   "execution_count": 116,
   "metadata": {
    "collapsed": false
   },
   "outputs": [
    {
     "name": "stdout",
     "output_type": "stream",
     "text": [
      "noCAS\n",
      "noROOM\n",
      "noREORDER\n",
      "noName\n",
      "bad rooms\n"
     ]
    }
   ],
   "source": [
    "#dfout.replace(np.nan,' ',inplace=True)\n",
    "hd = '<H1 style=color:red>\\n'  \n",
    "he = '</H1>\\n'\n",
    "ofile = htmldir+'ZZZ_problems.html'\n",
    "#remove(ofile)\n",
    "with open(ofile, 'w') as f:\n",
    "    f.write( tp)\n",
    "    for key,dfout in outdict.items():\n",
    "        print(key)\n",
    "        f.write(hd)\n",
    "        f.write(key)\n",
    "        f.write(he)\n",
    "        f.write(dfout.to_html())\n",
    "        \n",
    "    f.write(dn)\n",
    "\n",
    "os.chmod(ofile, mod)"
   ]
  },
  {
   "cell_type": "code",
   "execution_count": 117,
   "metadata": {
    "collapsed": false
   },
   "outputs": [
    {
     "name": "stdout",
     "output_type": "stream",
     "text": [
      "boron  db integrety checking ending  2017-09-08 15:44\n"
     ]
    }
   ],
   "source": [
    "etime = time.strftime(\"%Y-%m-%d %H:%M\")\n",
    "emsg = ' db integrety checking ending '\n",
    "print(host,emsg,etime)"
   ]
  },
  {
   "cell_type": "code",
   "execution_count": null,
   "metadata": {
    "collapsed": true
   },
   "outputs": [],
   "source": []
  }
 ],
 "metadata": {
  "kernelspec": {
   "display_name": "Python 3",
   "language": "python",
   "name": "python3"
  },
  "language_info": {
   "codemirror_mode": {
    "name": "ipython",
    "version": 3
   },
   "file_extension": ".py",
   "mimetype": "text/x-python",
   "name": "python",
   "nbconvert_exporter": "python",
   "pygments_lexer": "ipython3",
   "version": "3.6.0"
  }
 },
 "nbformat": 4,
 "nbformat_minor": 2
}
